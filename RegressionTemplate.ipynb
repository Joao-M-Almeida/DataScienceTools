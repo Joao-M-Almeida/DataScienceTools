{
 "cells": [
  {
   "cell_type": "code",
   "execution_count": null,
   "metadata": {
    "collapsed": true
   },
   "outputs": [],
   "source": [
    "#Imports of all necessary Python Packages\n",
    "import sklearn as skl\n",
    "import numpy as np\n",
    "import pandas as pd\n",
    "from time import time\n",
    "\n",
    "\n",
    "# Regressors\n",
    "\n",
    "from sklearn.tree import DecisionTreeRegressor\n",
    "from sklearn.ensemble import AdaBoostRegressor\n",
    "\n",
    "from sklearn.linear_model import RidgeCV\n",
    "from sklearn.linear_model import ElasticNetCV\n",
    "from sklearn.linear_model import LassoLarsCV\n",
    "from sklearn.linear_model import LinearRegression\n",
    "from sklearn.linear_model import BayesianRidge\n",
    "from sklearn.linear_model import ARDRegression\n",
    "from sklearn.linear_model import TheilSenRegressor\n",
    "\n",
    "from sklearn.isotonic import IsotonicRegression\n",
    "\n",
    "from sklearn.kernel_ridge import KernelRidge\n",
    "\n",
    "from sklearn.svm import SVR\n",
    "\n",
    "from sklearn.neighbors import KNeighborsRegressor\n",
    "\n",
    "from sklearn.gaussian_process import GaussianProcess\n",
    "\n",
    "# Metrics\n",
    "\n",
    "from sklearn.cross_validation import train_test_split\n",
    "from sklearn.cross_validation import cross_val_score\n",
    "\n",
    "#Decomposition\n",
    "from sklearn.decomposition import PCA"
   ]
  },
  {
   "cell_type": "code",
   "execution_count": null,
   "metadata": {
    "collapsed": false
   },
   "outputs": [],
   "source": [
    "#Here import the data to classify\n",
    "data = np.random.rand(100,5)\n",
    "labels = np.random.rand(100,1).ravel()"
   ]
  },
  {
   "cell_type": "code",
   "execution_count": null,
   "metadata": {
    "collapsed": false
   },
   "outputs": [],
   "source": [
    "# Feature Extraction\n",
    "pca = PCA(n_components = 2)\n",
    "data_decomposed = pca.fit_transform(data)"
   ]
  },
  {
   "cell_type": "code",
   "execution_count": null,
   "metadata": {
    "collapsed": false
   },
   "outputs": [],
   "source": [
    "# Generate a few of the most common Regression Models\n",
    "\n",
    "#regressIso = IsotonicRegression()\n",
    "\n",
    "regressAdaB = AdaBoostRegressor()\n",
    "\n",
    "regressDTree = DecisionTreeRegressor()\n",
    "\n",
    "regressRidge = RidgeCV()\n",
    "\n",
    "regressElNet = ElasticNetCV()\n",
    "\n",
    "regressKRidge = KernelRidge()\n",
    "\n",
    "regressSVM = SVR()\n",
    "\n",
    "regressLassoLars = LassoLarsCV()\n",
    "\n",
    "regressLR =  LinearRegression()\n",
    "\n",
    "regressARDR = ARDRegression()\n",
    "\n",
    "regressTSR = TheilSenRegressor()\n",
    "\n",
    "regressKNN = KNeighborsRegressor()\n",
    "\n",
    "regressGP = GaussianProcess()"
   ]
  },
  {
   "cell_type": "code",
   "execution_count": null,
   "metadata": {
    "collapsed": false
   },
   "outputs": [],
   "source": [
    "#Test one Regressor on the Data without Cross Validation\n",
    "\n",
    "regressor = regressLassoLars\n",
    "train_data, test_data, train_labels, test_labels = train_test_split(data, labels, test_size=0.20, random_state=42)\n",
    "\n",
    "t0 = time()\n",
    "regressor.fit(train_data,train_labels)\n",
    "print \"Score of Classifier: \" + str(regressor.score(test_data,test_labels))\n",
    "print(\"done in %0.3fs.\" % (time() - t0))"
   ]
  },
  {
   "cell_type": "code",
   "execution_count": null,
   "metadata": {
    "collapsed": true
   },
   "outputs": [],
   "source": [
    "#Analyze Residuals\n",
    "\n",
    "x= test_labels-regressor.predict(test_data)\n",
    "\n",
    "x = x[np.isfinite(x)]\n",
    "\n",
    "# the histogram of the data\n",
    "n, bins, patches = plt.hist(x, 20, normed=1, facecolor='green', alpha=0.75)\n",
    "\n",
    "mu = np.mean(x)\n",
    "sigma = np.std(x)\n",
    "# add a 'best fit' line\n",
    "y = mlab.normpdf( bins, mu, sigma)\n",
    "l = plt.plot(bins, y, 'r--', linewidth=1)\n",
    "\n",
    "plt.xlabel('Residuals')\n",
    "plt.ylabel('Probability Density function')\n",
    "plt.title('Residuals of current regression model')\n",
    "plt.grid(True)\n",
    "\n",
    "plt.show()"
   ]
  },
  {
   "cell_type": "code",
   "execution_count": null,
   "metadata": {
    "collapsed": false
   },
   "outputs": [],
   "source": [
    "# Test multiple regressors on the Data:\n",
    "\n",
    "regressor_lst = [regressAdaB, regressGP, regressKNN, regressTSR,regressARDR, regressLR, regressLassoLars,\n",
    "                 regressSVM, regressKRidge, regressRidge, regressElNet, \n",
    "                 regressDTree]\n",
    "\n",
    "train_data, test_data, train_labels, test_labels = train_test_split(data_decomposed,\n",
    "                                                                    labels, test_size=0.20, random_state=42)\n",
    "for regress in regressor_lst:\n",
    "    print regress\n",
    "    t0 = time()\n",
    "    regress.fit(train_data,train_labels)\n",
    "    print \"Score of Classifier: \" + str(regress.score(test_data,test_labels))\n",
    "    print(\"done in %0.3fs.\" % (time() - t0))"
   ]
  },
  {
   "cell_type": "code",
   "execution_count": null,
   "metadata": {
    "collapsed": false
   },
   "outputs": [],
   "source": [
    "# Select parameters to use in Cross-Validation\n",
    "regressCV = regressKNN\n",
    "data_cv = data_decomposed\n",
    "N_CV = 10\n",
    "\n",
    "# Cross Validation\n",
    "t0 = time()\n",
    "scores = cross_val_score(regressCV,data_cv,labels, n_jobs=-1, cv = N_CV)\n",
    "print \"Scores: \"\n",
    "for i,score in enumerate(scores):\n",
    "    print '\\t' + str(i) + ':\\t' + str(score) \n",
    "print(\"Accuracy: %0.3f (+/- %0.3f)\" % (scores.mean(), scores.std() * 2))\n",
    "print(\"\\nCross val done in %0.3fs.\" % (time() - t0))"
   ]
  },
  {
   "cell_type": "code",
   "execution_count": null,
   "metadata": {
    "collapsed": true
   },
   "outputs": [],
   "source": [
    "# Fine Tune with Grid-Search\n",
    "\n",
    "pipeline = Pipeline([\n",
    "    ('pca',PCA()),\n",
    "    ('lassLARS', LassoLarsCV(verbose=True, n_jobs=-1))\n",
    "    ])\n",
    "\n",
    "# Fine tune parameters using exaustive GridSearch:\n",
    "\n",
    "parameters = {\n",
    "    'pca__n_components': (1,2,3,4,5),\n",
    "    'lassLARS__fit_intercept':(True,False)\n",
    "    }\n",
    "    \n",
    "grid_search = GridSearchCV(pipeline, parameters,  verbose=1, n_jobs=-1)"
   ]
  },
  {
   "cell_type": "code",
   "execution_count": null,
   "metadata": {
    "collapsed": true
   },
   "outputs": [],
   "source": [
    "t0 = time()\n",
    "grid_search.fit(data, labels)\n",
    "print(\"done in %0.3fs\" % (time() - t0))\n",
    "print()\n",
    "\n",
    "print(\"Best score: %0.3f\" % grid_search.best_score_)\n",
    "print(\"Best parameters set:\")\n",
    "best_parameters = grid_search.best_estimator_.get_params()\n",
    "for param_name in sorted(parameters.keys()):\n",
    "    print(\"\\t%s: %r\" % (param_name, best_parameters[param_name]))"
   ]
  }
 ],
 "metadata": {
  "kernelspec": {
   "display_name": "Python 2",
   "language": "python",
   "name": "python2"
  },
  "language_info": {
   "codemirror_mode": {
    "name": "ipython",
    "version": 2
   },
   "file_extension": ".py",
   "mimetype": "text/x-python",
   "name": "python",
   "nbconvert_exporter": "python",
   "pygments_lexer": "ipython2",
   "version": "2.7.6"
  }
 },
 "nbformat": 4,
 "nbformat_minor": 0
}
