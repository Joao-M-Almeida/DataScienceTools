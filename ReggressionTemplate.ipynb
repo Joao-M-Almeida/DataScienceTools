{
 "cells": [
  {
   "cell_type": "code",
   "execution_count": null,
   "metadata": {
    "collapsed": true
   },
   "outputs": [],
   "source": [
    "#Imports of all necessary Python Packages\n",
    "import sklearn as skl\n",
    "import numpy as np\n",
    "import pandas as pd\n",
    "from time import time\n",
    "\n",
    "\n",
    "# Regressors\n",
    "\n",
    "from sklearn.tree import DecisionTreeRegressor\n",
    "from sklearn.ensemble import AdaBoostRegressor\n",
    "\n",
    "from sklearn.linear_model import RidgeCV\n",
    "from sklearn.linear_model import ElasticNetCV\n",
    "from sklearn.linear_model import LassoLarsCV\n",
    "from sklearn.linear_model import LinearRegression\n",
    "from sklearn.linear_model import BayesianRidge\n",
    "from sklearn.linear_model import ARDRegression\n",
    "from sklearn.linear_model import TheilSenRegressor\n",
    "\n",
    "from sklearn.isotonic import IsotonicRegression\n",
    "\n",
    "from sklearn.kernel_ridge import KernelRidge\n",
    "\n",
    "from sklearn.svm import SVR\n",
    "\n",
    "from sklearn.neighbors import KNeighborsRegressor\n",
    "\n",
    "from sklearn.gaussian_process import GaussianProcess\n",
    "\n",
    "# Metrics\n",
    "\n",
    "from sklearn.cross_validation import train_test_split\n",
    "from sklearn.cross_validation import cross_val_score\n",
    "\n",
    "#Decomposition\n",
    "from sklearn.decomposition import PCA"
   ]
  },
  {
   "cell_type": "code",
   "execution_count": null,
   "metadata": {
    "collapsed": false
   },
   "outputs": [],
   "source": [
    "#Here import the data to classify\n",
    "data = np.random.rand(100,5)\n",
    "labels = np.random.rand(100,1).ravel()"
   ]
  },
  {
   "cell_type": "code",
   "execution_count": null,
   "metadata": {
    "collapsed": false
   },
   "outputs": [],
   "source": [
    "# Feature Extraction\n",
    "pca = PCA(n_components = 2)\n",
    "data_decomposed = pca.fit_transform(data)"
   ]
  },
  {
   "cell_type": "code",
   "execution_count": null,
   "metadata": {
    "collapsed": false
   },
   "outputs": [],
   "source": [
    "# Generate a few of the most common Regression Models\n",
    "\n",
    "#regressIso = IsotonicRegression()\n",
    "\n",
    "regressAdaB = AdaBoostRegressor()\n",
    "\n",
    "regressDTree = DecisionTreeRegressor()\n",
    "\n",
    "regressRidge = RidgeCV()\n",
    "\n",
    "regressElNet = ElasticNetCV()\n",
    "\n",
    "regressKRidge = KernelRidge()\n",
    "\n",
    "regressSVM = SVR()\n",
    "\n",
    "regressLassoLars = LassoLarsCV()\n",
    "\n",
    "regressLR =  LinearRegression()\n",
    "\n",
    "regressARDR = ARDRegression()\n",
    "\n",
    "regressTSR = TheilSenRegressor()\n",
    "\n",
    "regressKNN = KNeighborsRegressor()\n",
    "\n",
    "regressGP = GaussianProcess()"
   ]
  },
  {
   "cell_type": "code",
   "execution_count": null,
   "metadata": {
    "collapsed": false
   },
   "outputs": [],
   "source": [
    "#Test one Regressor on the Data without Cross Validation\n",
    "\n",
    "regressor = regressLassoLars\n",
    "train_data, test_data, train_labels, test_labels = train_test_split(data, labels, test_size=0.20, random_state=42)\n",
    "\n",
    "t0 = time()\n",
    "regressor.fit(train_data,train_labels)\n",
    "print \"Score of Classifier: \" + str(regressor.score(test_data,test_labels))\n",
    "print(\"done in %0.3fs.\" % (time() - t0))"
   ]
  },
  {
   "cell_type": "code",
   "execution_count": null,
   "metadata": {
    "collapsed": false
   },
   "outputs": [],
   "source": [
    "# Test multiple regressors on the Data:\n",
    "\n",
    "regressor_lst = [regressAdaB, regressGP, regressKNN, regressTSR,regressARDR, regressLR, regressLassoLars,\n",
    "                 regressSVM, regressKRidge, regressRidge, regressElNet, \n",
    "                 regressDTree]\n",
    "\n",
    "train_data, test_data, train_labels, test_labels = train_test_split(data_decomposed,\n",
    "                                                                    labels, test_size=0.20, random_state=42)\n",
    "for regress in regressor_lst:\n",
    "    print regress\n",
    "    t0 = time()\n",
    "    regress.fit(train_data,train_labels)\n",
    "    print \"Score of Classifier: \" + str(regress.score(test_data,test_labels))\n",
    "    print(\"done in %0.3fs.\" % (time() - t0))"
   ]
  },
  {
   "cell_type": "code",
   "execution_count": null,
   "metadata": {
    "collapsed": false
   },
   "outputs": [],
   "source": [
    "# Select parameters to use in Cross-Validation\n",
    "regressCV = regressKNN\n",
    "data_cv = data_decomposed\n",
    "N_CV = 10\n",
    "\n",
    "# Cross Validation\n",
    "t0 = time()\n",
    "scores = cross_val_score(regressCV,data_cv,labels, n_jobs=-1, cv = N_CV)\n",
    "print \"Scores: \"\n",
    "for i,score in enumerate(scores):\n",
    "    print '\\t' + str(i) + ':\\t' + str(score) \n",
    "print(\"Accuracy: %0.3f (+/- %0.3f)\" % (scores.mean(), scores.std() * 2))\n",
    "print(\"\\nCross val done in %0.3fs.\" % (time() - t0))"
   ]
  }
 ],
 "metadata": {
  "kernelspec": {
   "display_name": "Python 2",
   "language": "python",
   "name": "python2"
  },
  "language_info": {
   "codemirror_mode": {
    "name": "ipython",
    "version": 2
   },
   "file_extension": ".py",
   "mimetype": "text/x-python",
   "name": "python",
   "nbconvert_exporter": "python",
   "pygments_lexer": "ipython2",
   "version": "2.7.6"
  }
 },
 "nbformat": 4,
 "nbformat_minor": 0
}
